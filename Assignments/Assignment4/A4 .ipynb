{
  "cells": [
    {
      "cell_type": "markdown",
      "metadata": {
        "id": "_bphECiUa9zw"
      },
      "source": [
        "# Assignment 4: Movie Review Analysis [50 Pt]\n",
        "\n",
        "In this assignment, we will build a recurrent neural network to work with sequential text data, specificially, movie review data to identify the reviewer sentiment. In the process of completing this assignment, you will:\n",
        "    \n",
        "1. Clean and process text data for machine learning.\n",
        "2. Perform tokenization of text data.\n",
        "3. Understand and implement a word-level recurrent neural network.\n",
        "4. Implement batching of text data using a DataLoader before training a recurrent neural network.\n",
        "5. Understand how to apply pretrained models for transfer learning in natural language processing projects.\n",
        "\n",
        "### What to submit\n",
        "\n",
        "Submit an HTML file containing all your code, outputs, and write-up\n",
        "from parts A and B. You can produce a HTML file directly from Google Colab. The Colab instructions are provided at the end of this document.\n",
        "\n",
        "**Do not submit any other files produced by your code.**\n",
        "\n",
        "Include a link to your colab file in your submission.\n",
        "\n",
        "Please use Google Colab to complete this assignment. If you want to use Jupyter Notebook, please complete the assignment and upload your Jupyter Notebook file to Google Colab for submission."
      ]
    },
    {
      "cell_type": "markdown",
      "metadata": {
        "id": "rWiUqJJTa9z6"
      },
      "source": [
        "## Colab Link\n",
        "\n",
        "Include a link to your Colab file here. If you would like the TA to look at your Colab file in case your solutions are cut off, **please make sure that your Colab file is publicly accessible at the time of submission.**"
      ]
    },
    {
      "cell_type": "code",
      "execution_count": 1,
      "metadata": {
        "id": "rk7aDAaR2_wz"
      },
      "outputs": [],
      "source": [
        "# TO BE COMPLETED\n",
        "\n",
        "#http://https://colab.research.google.com/drive/1EMsQAc9jeIXjZk62y5yMUwDAE-QiaIjL"
      ]
    },
    {
      "cell_type": "markdown",
      "metadata": {
        "id": "fFMdtipUPNdu"
      },
      "source": [
        "# PART A - Sentiment Analysis\n",
        "\n",
        "In this part we will construct a world-level LSTM model for identifying positive and negative reviews. This will be done in a similar way to what was shared in the preparation code for Assignment 4."
      ]
    },
    {
      "cell_type": "code",
      "execution_count": 2,
      "metadata": {
        "colab": {
          "base_uri": "https://localhost:8080/"
        },
        "id": "HgfNOUaPa9z8",
        "outputId": "8535db9b-8b36-47a8-b4a8-0715ff6b7841"
      },
      "outputs": [
        {
          "name": "stderr",
          "output_type": "stream",
          "text": [
            "[nltk_data] Downloading package stopwords to\n",
            "[nltk_data]     /home/seonghak/nltk_data...\n",
            "[nltk_data]   Unzipping corpora/stopwords.zip.\n"
          ]
        }
      ],
      "source": [
        "# load standard modules/libraries\n",
        "import pandas as pd\n",
        "import numpy as np\n",
        "import matplotlib.pyplot as plt\n",
        "import seaborn as sns\n",
        "from sklearn.model_selection import train_test_split\n",
        "\n",
        "# load special modules/libraries\n",
        "import os\n",
        "import warnings\n",
        "import nltk\n",
        "from nltk.corpus import stopwords\n",
        "nltk.download('stopwords')\n",
        "\n",
        "from collections import Counter\n",
        "import string\n",
        "import re\n",
        "from tqdm  import tqdm\n",
        "\n",
        "# load pytorch modules/libraries\n",
        "import torch\n",
        "import torch.nn as nn\n",
        "import torch.nn.functional as F\n",
        "import torch.optim as optim\n",
        "from torch.utils.data import TensorDataset,DataLoader\n"
      ]
    },
    {
      "cell_type": "markdown",
      "metadata": {
        "id": "M0jLI9LBa90C"
      },
      "source": [
        "## Part 1. Data Cleaning [5 pt]\n",
        "\n",
        "We will be using the \"IMDB Movie Review Dataset\" provided on the course website. Download \"IMDB Dataset.csv\" into your Colab workspace."
      ]
    },
    {
      "cell_type": "markdown",
      "metadata": {
        "id": "sSuF7C_Ga90E"
      },
      "source": [
        "### Part (i) [1pt EXPLORATORY]\n",
        "\n",
        "Open up the file in Python, and examine some examples of positive and negative reviews. Comment on the quality of the data and any challenges you foresee in working with these data. Pick one example of a positive review and one of a negative review to support your comments."
      ]
    },
    {
      "cell_type": "code",
      "execution_count": 3,
      "metadata": {
        "id": "I_IfXHeTa90F"
      },
      "outputs": [],
      "source": [
        "# download IMDB review data\n",
        "\n",
        "# load dataset\n",
        "df = pd.read_csv(\"IMDB Dataset.csv\")\n",
        "\n",
        "# process into data and labels\n",
        "X = df['review'].values\n",
        "y = df['sentiment'].values\n"
      ]
    },
    {
      "cell_type": "code",
      "execution_count": 4,
      "metadata": {
        "colab": {
          "base_uri": "https://localhost:8080/"
        },
        "id": "VLwLGZnp9ZAW",
        "outputId": "dff0250b-94d9-4254-d167-d6aac552ea42"
      },
      "outputs": [
        {
          "name": "stdout",
          "output_type": "stream",
          "text": [
            "(50000,)\n",
            "(50000,)\n"
          ]
        },
        {
          "data": {
            "text/plain": [
              "(None, None)"
            ]
          },
          "execution_count": 4,
          "metadata": {},
          "output_type": "execute_result"
        }
      ],
      "source": [
        "print(X.shape), print(y.shape)"
      ]
    },
    {
      "cell_type": "code",
      "execution_count": 5,
      "metadata": {
        "colab": {
          "base_uri": "https://localhost:8080/"
        },
        "id": "8DEb5pmh07Ka",
        "outputId": "fb78f3c2-1e7e-4ef7-fbb5-13ad2c231985"
      },
      "outputs": [
        {
          "name": "stdout",
          "output_type": "stream",
          "text": [
            "review : \n",
            "I remember this film,it was the first film i had watched at the cinema the picture was dark in places i was very nervous it was back in 74/75 my Dad took me my brother & sister to Newbury cinema in Newbury Berkshire England. I recall the tigers and the lots of snow in the film also the appearance of Grizzly Adams actor Dan Haggery i think one of the tigers gets shot and dies. If anyone knows where to find this on DVD etc please let me know.The cinema now has been turned in a fitness club which is a very big shame as the nearest cinema now is 20 miles away, would love to hear from others who have seen this film or any other like it., \n",
            "sentiment : positive\n"
          ]
        }
      ],
      "source": [
        "# TO BE COMPLETED\n",
        "print(f'review : \\n{X[18]}, \\nsentiment : {y[18]}')\n"
      ]
    },
    {
      "cell_type": "code",
      "execution_count": 6,
      "metadata": {
        "colab": {
          "base_uri": "https://localhost:8080/",
          "height": 72
        },
        "id": "fcIjeLLk0sE2",
        "outputId": "b980f7a2-0425-413c-abc2-cafa10657eb3"
      },
      "outputs": [
        {
          "data": {
            "text/plain": [
              "'\\nPROVIDE YOUR ANSWER BELOW\\n\\nIndex 18 says that the movie itself is not bad, but the movie before it was remade was better.\\nThis means giving a negative evaluation of the film in question and a positive evaluation of the previous film.\\nIn this way, we can see that the movie has not been properly evaluated.\\n\\n\\n'"
            ]
          },
          "execution_count": 6,
          "metadata": {},
          "output_type": "execute_result"
        }
      ],
      "source": [
        "'''\n",
        "PROVIDE YOUR ANSWER BELOW\n",
        "\n",
        "Index 18 says that the movie itself is not bad, but the movie before it was remade was better.\n",
        "This means giving a negative evaluation of the film in question and a positive evaluation of the previous film.\n",
        "In this way, we can see that the movie has not been properly evaluated.\n",
        "\n",
        "\n",
        "'''\n"
      ]
    },
    {
      "cell_type": "markdown",
      "metadata": {
        "id": "QaDPP2Ei5k8W"
      },
      "source": [
        "### Part (ii) [1pt EXPLORATORY]\n",
        "\n",
        "Perform summary statistics on the dataset. What is the average character length of a review? What are the lengths of the longest and shortest reviews?\n",
        "\n",
        "How many positive reviews and negative reviews are there. Generate a histogram to compare the average character length for positive and negative reviews. Comment on the differences in positive and negative reviews and how that may affect the model you will be using later."
      ]
    },
    {
      "cell_type": "code",
      "execution_count": 7,
      "metadata": {
        "colab": {
          "base_uri": "https://localhost:8080/",
          "height": 689
        },
        "id": "G5SRXZ4V6F4t",
        "outputId": "33d63889-5424-47cc-ba57-69f27fec0b0a"
      },
      "outputs": [
        {
          "data": {
            "image/png": "[encoded data removed]",
            "text/plain": [
              "<Figure size 1200x600 with 1 Axes>"
            ]
          },
          "metadata": {},
          "output_type": "display_data"
        },
        {
          "name": "stdout",
          "output_type": "stream",
          "text": [
            "average length : 1309.43102\n",
            "longest review : 13704\n",
            "shortest review : 32\n",
            "the number of positive reviews : 25000\n",
            "the number of negative reviews : 25000\n",
            "average length positive : 1324.79768\n",
            "average length negative : 1294.06436\n"
          ]
        }
      ],
      "source": [
        "review_lengths = np.array([len(review) for review in X])\n",
        "\n",
        "average_length = np.mean(review_lengths)\n",
        "\n",
        "longest_review = np.max(review_lengths)\n",
        "shortest_review = np.min(review_lengths)\n",
        "\n",
        "num_positive_reviews = (y == 'positive').sum()\n",
        "num_negative_reviews = (y == 'negative').sum()\n",
        "\n",
        "positive_review_lengths = review_lengths[y == 'positive']\n",
        "negative_review_lengths = review_lengths[y == 'negative']\n",
        "\n",
        "avg_length_positive = np.mean(positive_review_lengths)\n",
        "avg_length_negative = np.mean(negative_review_lengths)\n",
        "\n",
        "plt.figure(figsize=(12, 6))\n",
        "plt.hist(positive_review_lengths, alpha=0.5, bins=50, label='Positive Reviews')\n",
        "plt.hist(negative_review_lengths, alpha=0.5, bins=50, label='Negative Reviews')\n",
        "plt.legend()\n",
        "plt.title('Comparison of Review Lengths by Sentiment')\n",
        "plt.xlabel('Review Length')\n",
        "plt.ylabel('Number of Reviews')\n",
        "plt.show()\n",
        "\n",
        "average_length, longest_review, shortest_review, num_positive_reviews, num_negative_reviews, avg_length_positive, avg_length_negative\n",
        "print(f'average length : {average_length}')\n",
        "print(f'longest review : {longest_review}')\n",
        "print(f'shortest review : {shortest_review}')\n",
        "print(f'the number of positive reviews : {num_positive_reviews}')\n",
        "print(f'the number of negative reviews : {num_negative_reviews}')\n",
        "print(f'average length positive : {avg_length_positive}')\n",
        "print(f'average length negative : {avg_length_negative}')\n",
        "\n"
      ]
    },
    {
      "cell_type": "code",
      "execution_count": 9,
      "metadata": {
        "colab": {
          "base_uri": "https://localhost:8080/",
          "height": 107
        },
        "id": "gPSFCNYI6F4u",
        "outputId": "9c01f08c-fc93-4374-a31f-87d5e9bf3257"
      },
      "outputs": [
        {
          "data": {
            "application/vnd.google.colaboratory.intrinsic+json": {
              "type": "string"
            },
            "text/plain": [
              "'\\nPROVIDE YOUR ANSWER BELOW\\n\\nGeneral observations :\\n\\naverage length : 1309.43102\\nlongest review : 13704\\nshortest review : 32\\nthe number of positive reviews : 25000\\nthe number of negative reviews : 25000\\naverage length positive : 1324.79768\\naverage length negative : 1294.06436\\n\\nObservations positive vs negative:\\n\\nThere is a balance of positive and negative reviews. \\nWe can see that not only the amount of data is the same at 25000, but the avg length is also similar.\\n\\n'"
            ]
          },
          "execution_count": 9,
          "metadata": {},
          "output_type": "execute_result"
        }
      ],
      "source": [
        "'''\n",
        "PROVIDE YOUR ANSWER BELOW\n",
        "\n",
        "General observations :\n",
        "\n",
        "average length : 1309.43102\n",
        "longest review : 13704\n",
        "shortest review : 32\n",
        "the number of positive reviews : 25000\n",
        "the number of negative reviews : 25000\n",
        "average length positive : 1324.79768\n",
        "average length negative : 1294.06436\n",
        "\n",
        "Observations positive vs negative:\n",
        "\n",
        "There is a balance of positive and negative reviews.\n",
        "We can see that not only the amount of data is the same at 25000, but the avg length is also similar.\n",
        "\n",
        "'''\n"
      ]
    },
    {
      "cell_type": "markdown",
      "metadata": {
        "id": "ShOy3jp2zpRx"
      },
      "source": [
        "### Part (iii) [1pt EXPLORATORY]\n",
        "\n",
        "The following helper code will be used to process the data before we can train our LSTM model. In point form comment on what processing steps are performed in the code provided below and why these steps are necessary or beneficial to training and LSTM."
      ]
    },
    {
      "cell_type": "code",
      "execution_count": 10,
      "metadata": {
        "colab": {
          "base_uri": "https://localhost:8080/",
          "height": 179
        },
        "id": "6aamEcrqCqtU",
        "outputId": "e9575b0a-d15f-4230-e660-2de3633c6261"
      },
      "outputs": [
        {
          "data": {
            "application/vnd.google.colaboratory.intrinsic+json": {
              "type": "string"
            },
            "text/plain": [
              "\"One of the other reviewers has mentioned that after watching just 1 Oz episode you'll be hooked. They are right, as this is exactly what happened with me.<br /><br />The first thing that struck me about Oz was its brutality and unflinching scenes of violence, which set in right from the word GO. Trust me, this is not a show for the faint hearted or timid. This show pulls no punches with regards to drugs, sex or violence. Its is hardcore, in the classic use of the word.<br /><br />It is called OZ as that is the nickname given to the Oswald Maximum Security State Penitentary. It focuses mainly on Emerald City, an experimental section of the prison where all the cells have glass fronts and face inwards, so privacy is not high on the agenda. Em City is home to many..Aryans, Muslims, gangstas, Latinos, Christians, Italians, Irish and more....so scuffles, death stares, dodgy dealings and shady agreements are never far away.<br /><br />I would say the main appeal of the show is due to the fact that it goes where other shows wouldn't dare. Forget pretty pictures painted for mainstream audiences, forget charm, forget romance...OZ doesn't mess around. The first episode I ever saw struck me as so nasty it was surreal, I couldn't say I was ready for it, but as I watched more, I developed a taste for Oz, and got accustomed to the high levels of graphic violence. Not just violence, but injustice (crooked guards who'll be sold out for a nickel, inmates who'll kill on order and get away with it, well mannered, middle class inmates being turned into prison bitches due to their lack of street skills or prison experience) Watching Oz, you may become comfortable with what is uncomfortable viewing....thats if you can get in touch with your darker side.\""
            ]
          },
          "execution_count": 10,
          "metadata": {},
          "output_type": "execute_result"
        }
      ],
      "source": [
        "X[0]"
      ]
    },
    {
      "cell_type": "code",
      "execution_count": 9,
      "metadata": {
        "id": "tAjcY6oPz61e"
      },
      "outputs": [],
      "source": [
        "def preprocess_string(str1):\n",
        "    # remove all non-word characters excluding number and letters\n",
        "    str1= re.sub(r\"[^\\w\\s]\",'',str1)\n",
        "    # remove all whitespace with no space\n",
        "    str1= re.sub(r\"\\s\",'',str1)\n",
        "    # replace digits with no space\n",
        "    str1= re.sub(r\"\\d\",'',str1)\n",
        "    return str1\n",
        "\n",
        "def preprocess_sentence(sen1):\n",
        "    word_list=[]\n",
        "    stop_word = set(stopwords.words(\"english\"))\n",
        "    for word in sen1.lower().split():\n",
        "        word = preprocess_string(word)\n",
        "        if word not in stop_word and word!='':\n",
        "            word_list.append(word)\n",
        "    return word_list\n",
        "\n",
        "def get_stoi(data):\n",
        "    word_list=[]\n",
        "    for review in data:\n",
        "        word_list.extend(preprocess_sentence(review))\n",
        "    corpus = Counter(word_list)\n",
        "    print(corpus.get)\n",
        "    # sorting on the basis of most common words\n",
        "    corpus_ =sorted(corpus,key= corpus.get,reverse=True)[:1000]\n",
        "    # creating a dict\n",
        "    stoi =  {ch:i+1 for i,ch in enumerate(corpus_)}\n",
        "    return stoi\n",
        "\n",
        "def tokenize(data, labels, stoi):\n",
        "    # tokenize\n",
        "    data_encoded = []\n",
        "    for review in data:\n",
        "        data_encoded.append([stoi[word] for word in preprocess_sentence(review)\n",
        "                                     if word in stoi.keys()])\n",
        "\n",
        "    labels_encoded = [1 if label =='positive' else 0 for label in labels]\n",
        "\n",
        "    return data_encoded, np.array(labels_encoded)\n",
        "\n",
        "def padding_(sentences, seq_len):\n",
        "    features = np.zeros((len(sentences), seq_len),dtype=int)\n",
        "    for ii, review in enumerate(sentences):\n",
        "        if len(review)!=0:\n",
        "            features[ii, -len(review):] = np.array(review)[:seq_len]\n",
        "\n",
        "    return features"
      ]
    },
    {
      "cell_type": "markdown",
      "metadata": {
        "id": "daK_Q_0FCZ4i"
      },
      "source": [
        "Certainly, let's connect each step of the preprocessing directly with the provided helper code:\n",
        "\n",
        "1. **Clean Text (`preprocess_string`)**:\n",
        "   - Removes punctuation and special characters to focus on words and numbers, simplifying the text.\n",
        "   - Removes all spaces (though typically, you'd want to clean whitespace, not remove it entirely).\n",
        "   - Removes digits to focus on textual information, though this might not always be desired depending on context.\n",
        "\n",
        "2. **Remove Stopwords and Tokenization (`preprocess_sentence`)**:\n",
        "   - Converts text to lowercase and splits into words, making the processing uniform and simplifying the text.\n",
        "   - Removes stopwords to focus on more semantically meaningful words.\n",
        "   - Applies `preprocess_string` to each word for further cleaning.\n",
        "\n",
        "3. **Build Vocabulary (`get_stoi`)**:\n",
        "   - Creates a list of unique words from the processed text.\n",
        "   - Limits the vocabulary to the 1000 most common words, reducing model complexity and focusing on relevant words.\n",
        "   - Maps each of these words to a unique integer, facilitating numerical processing by the LSTM.\n",
        "\n",
        "4. **Encode Reviews and Labels (`tokenize`)**:\n",
        "   - Converts reviews into sequences of integers using the vocabulary mapping created earlier. This step transforms the text into a format that the LSTM can process.\n",
        "   - Encodes sentiment labels as binary values, aligning with the binary classification task (positive to 1, negative to 0).\n",
        "\n",
        "5. **Padding (`padding_`)**:\n",
        "   - Ensures all sequences have the same length by padding them with zeros. This uniform length is crucial for training LSTMs, as they require fixed-size input tensors.\n",
        "\n",
        "These preprocessing steps, as defined in the helper code, are essential for preparing the text data for LSTM model training. They systematically reduce the complexity of the raw text, focus the model's learning on the most informative parts of the data, and transform the data into a numerical format that the LSTM can efficiently process."
      ]
    },
    {
      "cell_type": "markdown",
      "metadata": {
        "id": "ie_D0bv9a90k"
      },
      "source": [
        "### Part (iv) [1pt EXPLORATORY]\n",
        "\n",
        "Split the dataset into `train`, `valid`, and `test`. Use a 60-20-20 split. Then apply the above processing steps to prepare your data for training.\n",
        "\n",
        "Set the padding of the reviews to 500."
      ]
    },
    {
      "cell_type": "code",
      "execution_count": 10,
      "metadata": {
        "colab": {
          "base_uri": "https://localhost:8080/"
        },
        "id": "P_Y6Puz9a90l",
        "outputId": "665cc7b8-a330-44eb-a8fc-cb9b555d8037"
      },
      "outputs": [
        {
          "name": "stdout",
          "output_type": "stream",
          "text": [
            "<built-in method get of Counter object at 0x7ff36874e540>\n"
          ]
        }
      ],
      "source": [
        "X_train, X_temp, y_train, y_temp = train_test_split(X, y, test_size=0.4, random_state=42)\n",
        "X_valid, X_test, y_valid, y_test = train_test_split(X_temp, y_temp, test_size=0.5, random_state=42)\n",
        "\n",
        "stoi = get_stoi(X_train)\n",
        "X_train_encoded, y_train_encoded = tokenize(X_train, y_train, stoi)\n",
        "X_valid_encoded, y_valid_encoded = tokenize(X_valid, y_valid, stoi)\n",
        "X_test_encoded, y_test_encoded = tokenize(X_test, y_test, stoi)\n",
        "\n",
        "seq_len = 500\n",
        "X_train_padded = padding_(X_train_encoded,seq_len)\n",
        "X_valid_padded = padding_(X_valid_encoded,seq_len)\n",
        "X_test_padded = padding_(X_test_encoded,seq_len)\n"
      ]
    },
    {
      "cell_type": "markdown",
      "metadata": {
        "id": "Ff5CNk7Qa90y"
      },
      "source": [
        "### Part (v) [1pt EXPLORATORY]\n",
        "\n",
        "Create a DataLoader that will allow you to load the training and validation data in mini-batches. Then generate a dataset of batch size of 16 to verify that the DataLoader works as intended."
      ]
    },
    {
      "cell_type": "code",
      "execution_count": 11,
      "metadata": {
        "colab": {
          "base_uri": "https://localhost:8080/"
        },
        "id": "V8N8qLWOa90y",
        "outputId": "75dcf580-6176-4adc-8468-4fc3f490174a"
      },
      "outputs": [
        {
          "name": "stdout",
          "output_type": "stream",
          "text": [
            "train loader      -- Batch size: torch.Size([16, 500]), Labels size: torch.Size([16])\n",
            "validation loader -- Batch size: torch.Size([16, 500]), Labels size: torch.Size([16])\n"
          ]
        }
      ],
      "source": [
        "class ReviewDataset():\n",
        "    \"\"\"Custom Dataset for loading the review text data\"\"\"\n",
        "    def __init__(self, texts, labels):\n",
        "        self.texts = texts\n",
        "        self.labels = labels\n",
        "\n",
        "    def __len__(self):\n",
        "        return len(self.texts)\n",
        "\n",
        "    def __getitem__(self, idx):\n",
        "        text = self.texts[idx]\n",
        "        label = self.labels[idx]\n",
        "        return text, label\n",
        "\n",
        "\n",
        "# Convert the padded training and validation datasets and their labels into PyTorch tensors\n",
        "train_texts_tensor = torch.tensor(X_train_padded, dtype=torch.long)\n",
        "train_labels_tensor = torch.tensor(y_train_encoded, dtype=torch.float)\n",
        "valid_texts_tensor = torch.tensor(X_valid_padded, dtype=torch.long)\n",
        "valid_labels_tensor = torch.tensor(y_valid_encoded, dtype=torch.float)\n",
        "\n",
        "\n",
        "# Create instances of the ReviewDataset\n",
        "train_dataset = ReviewDataset(train_texts_tensor, train_labels_tensor)\n",
        "valid_dataset = ReviewDataset(valid_texts_tensor, valid_labels_tensor)\n",
        "\n",
        "\n",
        "batch_size = 16\n",
        "train_loader = DataLoader(train_dataset, batch_size=batch_size, shuffle=True)\n",
        "valid_loader = DataLoader(valid_dataset, batch_size=batch_size, shuffle=True)\n",
        "\n",
        "for texts, labels in train_loader:\n",
        "    print(f'train loader      -- Batch size: {texts.size()}, Labels size: {labels.size()}')\n",
        "    break  # Only iterate through the first batch for this example\n",
        "\n",
        "for texts, labels in valid_loader:\n",
        "    print(f'validation loader -- Batch size: {texts.size()}, Labels size: {labels.size()}')\n",
        "    break  # Only iterate through the first batch for this example\n"
      ]
    },
    {
      "cell_type": "markdown",
      "metadata": {
        "id": "y7HnqP6_a904"
      },
      "source": [
        "## Part 2. Model Building [2pt MODEL]\n",
        "\n",
        "Build a recurrent neural network model, using an architecture of your choosing. Use one or more fully-connected layers to make the prediction based on your recurrent network output.\n",
        "\n",
        "Instead of using the RNN output value for the final token, another often used strategy is to max-pool over the entire output array. That is, instead of calling something like:\n",
        "\n",
        "```\n",
        "out, _ = self.rnn(x)\n",
        "self.fc(out[:, -1, :])\n",
        "```\n",
        "\n",
        "where `self.rnn` is an `nn.RNN`, `nn.GRU`, or `nn.LSTM` module, and `self.fc` is a\n",
        "fully-connected\n",
        "layer, we use:\n",
        "\n",
        "```\n",
        "out, _ = self.rnn(x)\n",
        "self.fc(torch.max(out, dim=1)[0])\n",
        "```\n",
        "\n",
        "This works reasonably in practice. An even better alternative is to concatenate the max-pooling and average-pooling of the RNN outputs:\n",
        "\n",
        "```\n",
        "out, _ = self.rnn(x)\n",
        "out = torch.cat([torch.max(out, dim=1)[0],\n",
        "                 torch.mean(out, dim=1)], dim=1)\n",
        "self.fc(out)\n",
        "```\n",
        "\n",
        "We encourage you to try out all these options. The way you pool the RNN outputs is one of the \"hyperparameters\" that you can choose to tune later on."
      ]
    },
    {
      "cell_type": "code",
      "execution_count": 12,
      "metadata": {
        "id": "4LTQ7zFka909"
      },
      "outputs": [],
      "source": [
        "class SentimentRNN(nn.Module):\n",
        "    def __init__(self, vocab_size, embedding_dim, hidden_dim, output_dim, n_layers, drop_prob=0.5):\n",
        "      super(SentimentRNN, self).__init__()\n",
        "      self.n_layers = n_layers\n",
        "      self.hidden_dim = hidden_dim\n",
        "      self.embedding = nn.Embedding(vocab_size, embedding_dim)\n",
        "      self.lstm = nn.LSTM(embedding_dim, hidden_dim, n_layers, dropout=drop_prob, batch_first=True)\n",
        "      self.dropout = nn.Dropout(drop_prob)\n",
        "      self.fc = nn.Linear(2*hidden_dim, output_dim)\n",
        "      self.sig = nn.Sigmoid()\n",
        "\n",
        "    def forward(self, x, hidden):\n",
        "      batch_size = x.size(0)\n",
        "\n",
        "      # Embedding and RNN\n",
        "      x = self.embedding(x)\n",
        "      out, hidden = self.lstm(x, hidden)\n",
        "\n",
        "      # Max pooling and average pooling\n",
        "      out_max = torch.max(out, dim=1)[0]\n",
        "      out_avg = torch.mean(out, dim=1)\n",
        "      out = torch.cat([out_max, out_avg], dim=1)\n",
        "\n",
        "      # Dropout and fully connected layer\n",
        "      out = self.dropout(out)\n",
        "      out = self.fc(out)\n",
        "\n",
        "      # Sigmoid function\n",
        "      sig_out = self.sig(out)\n",
        "\n",
        "      return sig_out, hidden\n",
        "\n",
        "\n",
        "    def init_hidden(self, batch_size):\n",
        "\n",
        "      weight = next(self.parameters()).data\n",
        "      if torch.cuda.is_available():\n",
        "          hidden = (weight.new(self.n_layers, batch_size, self.hidden_dim).zero_().cuda(),\n",
        "                    weight.new(self.n_layers, batch_size, self.hidden_dim).zero_().cuda())\n",
        "      else:\n",
        "          hidden = (weight.new(self.n_layers, batch_size, self.hidden_dim).zero_(),\n",
        "                    weight.new(self.n_layers, batch_size, self.hidden_dim).zero_())\n",
        "\n",
        "      return hidden\n"
      ]
    },
    {
      "cell_type": "markdown",
      "metadata": {
        "id": "vKIYPl_Ba90_"
      },
      "source": [
        "## Part 3. Training [3 pt]\n",
        "\n",
        "### Part (i) [1pt MODEL]\n",
        "\n",
        "Complete the `get_accuracy` function, which will compute the\n",
        "accuracy (rate) of your model across a dataset (e.g. validation set)."
      ]
    },
    {
      "cell_type": "code",
      "execution_count": 13,
      "metadata": {
        "id": "pvNfhGD6a91A"
      },
      "outputs": [],
      "source": [
        "def get_accuracy(model, data_loader):\n",
        "\n",
        "    model.eval()\n",
        "\n",
        "    correct, total = 0, 0\n",
        "    with torch.no_grad():\n",
        "        for inputs, labels in data_loader:\n",
        "          if torch.cuda.is_available():\n",
        "            inputs, labels = inputs.to(device), labels.to(device)\n",
        "\n",
        "          outputs, _ = model(inputs, model.init_hidden(inputs.size(0)))\n",
        "          predicted = outputs.round()\n",
        "\n",
        "          # Update totals\n",
        "          total += labels.size(0)\n",
        "          correct += (predicted == labels.unsqueeze(1)).sum().item()\n",
        "\n",
        "    return correct / total\n",
        "\n"
      ]
    },
    {
      "cell_type": "markdown",
      "metadata": {
        "id": "TlxlcAC1a91C"
      },
      "source": [
        "### Part (ii) [1pt MODEL]\n",
        "\n",
        "Train your model. Plot the training curve of your final model.\n",
        "Your training curve should have the training/validation loss and\n",
        "accuracy plotted periodically."
      ]
    },
    {
      "cell_type": "code",
      "execution_count": 16,
      "metadata": {
        "colab": {
          "base_uri": "https://localhost:8080/",
          "height": 652
        },
        "id": "IwUrRtE123WH",
        "outputId": "b0179f3a-a212-4bfe-df57-55be66e0cf71"
      },
      "outputs": [],
      "source": [
        "import torch.optim as optim\n",
        "\n",
        "def train(model, train_loader, valid_loader, num_epochs=5, learning_rate=1e-5, device='cpu'):\n",
        "\n",
        "  criterion = nn.BCELoss()\n",
        "  optimizer = optim.Adam(model.parameters(), lr=learning_rate)\n",
        "\n",
        "  # To store metrics\n",
        "  train_losses, val_losses = [], []\n",
        "  train_accuracies, val_accuracies = [], []\n",
        "\n",
        "\n",
        "  for epoch in range(num_epochs):\n",
        "      # Training\n",
        "      model.train()\n",
        "      train_loss = 0.0\n",
        "      for index, batch in enumerate(train_loader):\n",
        "          inputs, labels = batch[0].to(device), batch[1].to(device)\n",
        "          hidden = model.init_hidden(inputs.size(0))\n",
        "          if torch.cuda.is_available():\n",
        "            hidden = tuple([each.data.cuda() for each in hidden])\n",
        "\n",
        "          optimizer.zero_grad()\n",
        "          output, hidden = model(inputs, hidden)\n",
        "          loss = criterion(output.squeeze(), labels.float())\n",
        "          loss.backward()\n",
        "          optimizer.step()\n",
        "          train_loss += loss.item()\n",
        "\n",
        "      # Validation\n",
        "      val_loss = 0.0\n",
        "      val_accuracy = get_accuracy(model, valid_loader)\n",
        "\n",
        "      model.eval()\n",
        "      with torch.no_grad():\n",
        "          for batch in valid_loader:\n",
        "            inputs, labels = batch[0].to(device), batch[1].to(device)\n",
        "            hidden = model.init_hidden(inputs.size(0))\n",
        "            if torch.cuda.is_available():\n",
        "              hidden = tuple([each.data.cuda() for each in hidden])\n",
        "            output, _ = model(inputs, hidden)\n",
        "            loss = criterion(output.squeeze(), labels.float())\n",
        "            val_loss += loss.item()\n",
        "\n",
        "      # Calculate average losses\n",
        "      train_losses.append(train_loss / len(train_loader))\n",
        "      val_losses.append(val_loss / len(valid_loader))\n",
        "\n",
        "      # Store accuracy\n",
        "      train_accuracies.append(get_accuracy(model, train_loader))\n",
        "      val_accuracies.append(val_accuracy)\n",
        "\n",
        "      print(f'Epoch {epoch+1}: Train Loss: {train_losses[-1]:.4f}, Train Acc: {train_accuracies[-1]:.4f}, '\n",
        "            f'Valid Loss: {val_losses[-1]:.4f}, Valid Acc: {val_accuracies[-1]:.4f}')\n",
        "\n",
        "  # Plotting\n",
        "  plt.figure(figsize=(12, 6))\n",
        "  plt.subplot(1, 2, 1)\n",
        "  plt.plot(train_losses, label='Training Loss')\n",
        "  plt.plot(val_losses, label='Validation Loss')\n",
        "  plt.title('Training & Validation Loss')\n",
        "  plt.xlabel('Epochs')\n",
        "  plt.ylabel('Loss')\n",
        "  plt.legend()\n",
        "\n",
        "  plt.subplot(1, 2, 2)\n",
        "  plt.plot(train_accuracies, label='Training Accuracy')\n",
        "  plt.plot(val_accuracies, label='Validation Accuracy')\n",
        "\n",
        "  plt.show()\n"
      ]
    },
    {
      "cell_type": "code",
      "execution_count": 17,
      "metadata": {},
      "outputs": [
        {
          "name": "stdout",
          "output_type": "stream",
          "text": [
            "Epoch 1: Train Loss: 0.6934, Train Acc: 0.5648, Valid Loss: 0.6920, Valid Acc: 0.5682\n",
            "Epoch 2: Train Loss: 0.6913, Train Acc: 0.6406, Valid Loss: 0.6886, Valid Acc: 0.6422\n",
            "Epoch 3: Train Loss: 0.6530, Train Acc: 0.6912, Valid Loss: 0.5989, Valid Acc: 0.6870\n",
            "Epoch 4: Train Loss: 0.5757, Train Acc: 0.7241, Valid Loss: 0.5566, Valid Acc: 0.7147\n",
            "Epoch 5: Train Loss: 0.5387, Train Acc: 0.7431, Valid Loss: 0.5311, Valid Acc: 0.7349\n"
          ]
        },
        {
          "data": {
            "image/png": "[encoded data removed]",
            "text/plain": [
              "<Figure size 1200x600 with 2 Axes>"
            ]
          },
          "metadata": {},
          "output_type": "display_data"
        }
      ],
      "source": [
        "# Parameters for the model\n",
        "vocab_size = len(stoi) + 1\n",
        "embedding_dim = 128\n",
        "hidden_dim = 256\n",
        "output_dim = 1\n",
        "n_layers = 2\n",
        "device = \"cuda\" if torch.cuda.is_available() else \"cpu\"\n",
        "\n",
        "model = SentimentRNN(vocab_size, embedding_dim, hidden_dim, output_dim, n_layers).to(device)\n",
        "train(model, train_loader, valid_loader, num_epochs=5, learning_rate=1e-5, device=device)"
      ]
    },
    {
      "cell_type": "markdown",
      "metadata": {
        "id": "fE3eRkDAa91F"
      },
      "source": [
        "### Part (iii) [1pt MODEL]\n",
        "\n",
        "Choose at least 4 hyperparameters to tune. Explain how you tuned the hyperparameters.\n",
        "You don't need to include your training curve for every model you trained.\n",
        "Instead, explain what hyperparemters you tuned, what the best validation accuracy was,\n",
        "and the reasoning behind the hyperparameter decisions you made.\n",
        "\n",
        "For this assignment, you should tune more than just your learning rate and epoch.\n",
        "Choose at least 2 hyperparameters that are unrelated to the optimizer."
      ]
    },
    {
      "cell_type": "code",
      "execution_count": 15,
      "metadata": {
        "colab": {
          "base_uri": "https://localhost:8080/",
          "height": 743
        },
        "id": "92zpyzS1ZRmL",
        "outputId": "1ba1f5e9-14a1-4131-d26e-dfbeaa84cdce"
      },
      "outputs": [
        {
          "name": "stdout",
          "output_type": "stream",
          "text": [
            "Epoch 1: Train Loss: 0.6933, Train Acc: 0.5680, Valid Loss: 0.6921, Valid Acc: 0.5647\n",
            "Epoch 2: Train Loss: 0.6918, Train Acc: 0.5402, Valid Loss: 0.6900, Valid Acc: 0.5389\n",
            "Epoch 3: Train Loss: 0.6802, Train Acc: 0.6664, Valid Loss: 0.6280, Valid Acc: 0.6720\n",
            "Epoch 4: Train Loss: 0.5745, Train Acc: 0.7304, Valid Loss: 0.5447, Valid Acc: 0.7303\n",
            "Epoch 5: Train Loss: 0.5308, Train Acc: 0.7501, Valid Loss: 0.5195, Valid Acc: 0.7480\n",
            "Epoch 6: Train Loss: 0.5091, Train Acc: 0.7600, Valid Loss: 0.5057, Valid Acc: 0.7558\n",
            "Epoch 7: Train Loss: 0.4902, Train Acc: 0.7763, Valid Loss: 0.4879, Valid Acc: 0.7693\n",
            "Epoch 8: Train Loss: 0.4720, Train Acc: 0.7880, Valid Loss: 0.4731, Valid Acc: 0.7833\n",
            "Epoch 9: Train Loss: 0.4558, Train Acc: 0.7980, Valid Loss: 0.4603, Valid Acc: 0.7873\n",
            "Epoch 10: Train Loss: 0.4406, Train Acc: 0.8072, Valid Loss: 0.4487, Valid Acc: 0.7974\n"
          ]
        },
        {
          "data": {
            "image/png": "[encoded data removed]",
            "text/plain": [
              "<Figure size 1200x600 with 2 Axes>"
            ]
          },
          "metadata": {},
          "output_type": "display_data"
        }
      ],
      "source": [
        "# num_epochs=10\n",
        "model = SentimentRNN(vocab_size, embedding_dim, hidden_dim, output_dim, n_layers).to(device)\n",
        "train(model, train_loader, valid_loader, num_epochs=10, learning_rate=1e-5, device=device)"
      ]
    },
    {
      "cell_type": "code",
      "execution_count": 17,
      "metadata": {
        "colab": {
          "base_uri": "https://localhost:8080/",
          "height": 743
        },
        "id": "A2GEWfDca91G",
        "outputId": "f6f3812b-2782-4008-b588-3ba18d4e91bf"
      },
      "outputs": [
        {
          "name": "stdout",
          "output_type": "stream",
          "text": [
            "Epoch 1: Train Loss: 0.6936, Train Acc: 0.5004, Valid Loss: 0.6926, Valid Acc: 0.5010\n",
            "Epoch 2: Train Loss: 0.6921, Train Acc: 0.6159, Valid Loss: 0.6899, Valid Acc: 0.6087\n",
            "Epoch 3: Train Loss: 0.6797, Train Acc: 0.6759, Valid Loss: 0.6338, Valid Acc: 0.6689\n",
            "Epoch 4: Train Loss: 0.5584, Train Acc: 0.7634, Valid Loss: 0.5134, Valid Acc: 0.7571\n",
            "Epoch 5: Train Loss: 0.4906, Train Acc: 0.7893, Valid Loss: 0.4746, Valid Acc: 0.7825\n",
            "Epoch 6: Train Loss: 0.4552, Train Acc: 0.8065, Valid Loss: 0.4493, Valid Acc: 0.7985\n",
            "Epoch 7: Train Loss: 0.4306, Train Acc: 0.8176, Valid Loss: 0.4313, Valid Acc: 0.8057\n",
            "Epoch 8: Train Loss: 0.4117, Train Acc: 0.8260, Valid Loss: 0.4193, Valid Acc: 0.8134\n",
            "Epoch 9: Train Loss: 0.3958, Train Acc: 0.8361, Valid Loss: 0.4032, Valid Acc: 0.8215\n",
            "Epoch 10: Train Loss: 0.3836, Train Acc: 0.8435, Valid Loss: 0.3960, Valid Acc: 0.8273\n"
          ]
        },
        {
          "data": {
            "image/png": "[encoded data removed]",
            "text/plain": [
              "<Figure size 1200x600 with 2 Axes>"
            ]
          },
          "metadata": {},
          "output_type": "display_data"
        }
      ],
      "source": [
        "# embedding_dim 256\n",
        "vocab_size = len(stoi) + 1\n",
        "embedding_dim = 256\n",
        "hidden_dim = 256\n",
        "output_dim = 1\n",
        "n_layers = 2\n",
        "device = \"cuda\" if torch.cuda.is_available() else \"cpu\"\n",
        "\n",
        "model = SentimentRNN(vocab_size, embedding_dim, hidden_dim, output_dim, n_layers).to(device)\n",
        "train(model, train_loader, valid_loader, num_epochs=10, learning_rate=1e-5, device=device)\n",
        "\n"
      ]
    },
    {
      "cell_type": "code",
      "execution_count": 18,
      "metadata": {
        "colab": {
          "base_uri": "https://localhost:8080/"
        },
        "id": "H63ppfayLoY7",
        "outputId": "502668e4-3060-405c-d39d-da344cb888d1"
      },
      "outputs": [
        {
          "name": "stdout",
          "output_type": "stream",
          "text": [
            "Epoch 1: Train Loss: 0.6923, Train Acc: 0.6246, Valid Loss: 0.6897, Valid Acc: 0.6255\n",
            "Epoch 2: Train Loss: 0.6231, Train Acc: 0.7560, Valid Loss: 0.5132, Valid Acc: 0.7561\n",
            "Epoch 3: Train Loss: 0.4861, Train Acc: 0.7909, Valid Loss: 0.4635, Valid Acc: 0.7884\n",
            "Epoch 4: Train Loss: 0.4435, Train Acc: 0.8083, Valid Loss: 0.4403, Valid Acc: 0.8019\n",
            "Epoch 5: Train Loss: 0.4134, Train Acc: 0.8271, Valid Loss: 0.4130, Valid Acc: 0.8149\n",
            "Epoch 6: Train Loss: 0.3898, Train Acc: 0.8397, Valid Loss: 0.3953, Valid Acc: 0.8248\n",
            "Epoch 7: Train Loss: 0.3711, Train Acc: 0.8487, Valid Loss: 0.3815, Valid Acc: 0.8334\n",
            "Epoch 8: Train Loss: 0.3541, Train Acc: 0.8570, Valid Loss: 0.3696, Valid Acc: 0.8388\n"
          ]
        }
      ],
      "source": [
        "# hidden_dim 512\n",
        "vocab_size = len(stoi) + 1\n",
        "embedding_dim = 256\n",
        "hidden_dim = 512\n",
        "output_dim = 1\n",
        "n_layers = 2\n",
        "device = \"cuda\" if torch.cuda.is_available() else \"cpu\"\n",
        "\n",
        "model = SentimentRNN(vocab_size, embedding_dim, hidden_dim, output_dim, n_layers).to(device)\n",
        "train(model, train_loader, valid_loader, num_epochs=10, learning_rate=1e-5, device=device)\n",
        "\n"
      ]
    },
    {
      "cell_type": "code",
      "execution_count": null,
      "metadata": {
        "id": "BCJkg-4FLtd1"
      },
      "outputs": [],
      "source": [
        "# hidden_dim 512 and embedding_dim 512\n",
        "vocab_size = len(stoi) + 1\n",
        "embedding_dim = 512\n",
        "hidden_dim = 512\n",
        "output_dim = 1\n",
        "n_layers = 2\n",
        "device = \"cuda\" if torch.cuda.is_available() else \"cpu\"\n",
        "\n",
        "model = SentimentRNN(vocab_size, embedding_dim, hidden_dim, output_dim, n_layers).to(device)\n",
        "train(model, train_loader, valid_loader, num_epochs=10, learning_rate=1e-5, device=device)\n",
        "\n"
      ]
    },
    {
      "cell_type": "code",
      "execution_count": null,
      "metadata": {
        "id": "mN2t6fSzryME"
      },
      "outputs": [],
      "source": [
        "'''\n",
        "PROVIDE YOUR ANSWER BELOW\n",
        "\n",
        "\n",
        "\n",
        "\n",
        "\n",
        "\n",
        "'''"
      ]
    },
    {
      "cell_type": "markdown",
      "metadata": {
        "id": "Gznefulsa91V"
      },
      "source": [
        "## Part 4. Evaluation [10 pt]\n",
        "\n",
        "**Important**. At this point in the assignment your test data should not have been evaluated by any of your models. The test data should be evaluated only after you have finished all the previous parts of the assignment. Once you evaluate your models on the test data you cannot change your models or else you may make hyperparameter adjustments that could lead to overfitting to the test data.\n",
        "\n",
        "### Part (i) [3pt RESULT]\n",
        "\n",
        "Report the final test accuracy of your model. Comment on how the result compares with accuracy obtained on the training and validation data. Are the results what you expected? Explain."
      ]
    },
    {
      "cell_type": "code",
      "execution_count": null,
      "metadata": {
        "id": "D5L5D-A1a91W"
      },
      "outputs": [],
      "source": [
        "# TO BE COMPLETED\n",
        "\n",
        "\n",
        "\n"
      ]
    },
    {
      "cell_type": "code",
      "execution_count": null,
      "metadata": {
        "id": "DTHWBJCu_Fyz"
      },
      "outputs": [],
      "source": [
        "'''\n",
        "PROVIDE YOUR ANSWER BELOW\n",
        "\n",
        "\n",
        "\n",
        "\n",
        "\n",
        "\n",
        "'''\n"
      ]
    },
    {
      "cell_type": "markdown",
      "metadata": {
        "id": "kLvxrCP5Bwdu"
      },
      "source": [
        "### Part (ii) [3pt DISCUSSION]\n",
        "\n",
        "Look over the misclassified samples in the test data and see if you can find any patterns on where the model has difficulty with identifying the review sentiment. Provide up to 5 examples of positive and negative reviews each to support your findings."
      ]
    },
    {
      "cell_type": "code",
      "execution_count": null,
      "metadata": {
        "id": "IJt0APcBBwd5"
      },
      "outputs": [],
      "source": [
        "# TO BE COMPLETED\n",
        "\n",
        "\n",
        "\n"
      ]
    },
    {
      "cell_type": "code",
      "execution_count": null,
      "metadata": {
        "id": "Fyr16MISBwd5"
      },
      "outputs": [],
      "source": [
        "'''\n",
        "PROVIDE YOUR ANSWER BELOW\n",
        "\n",
        "\n",
        "\n",
        "\n",
        "\n",
        "\n",
        "'''\n"
      ]
    },
    {
      "cell_type": "markdown",
      "metadata": {
        "id": "0jGHtQFpa91b"
      },
      "source": [
        "### Part (iii) [2pt RESULT]\n",
        "\n",
        "What is your model's prediction of the **probability** that\n",
        "the review message provided below is a positive review?\n",
        "\n",
        "Hint: You will need to apply the same processing on the review as was done on the the train, val, and test data sets."
      ]
    },
    {
      "cell_type": "code",
      "execution_count": null,
      "metadata": {
        "id": "h_2nSJq8a91b"
      },
      "outputs": [],
      "source": [
        "review = \"\"\" Man.... I wish I loved this movie more than I did. Don't get me wrong,\n",
        "it's a solid action movie with jaw-dropping stunts (some of the best in the series),\n",
        "but as a Mission: Impossible movie, it felt like a small step backward for the franchise.\n",
        "Fallout had mind-blowing action sequences and stunt work, along with developing Ethan's\n",
        "relationship with Ilsa, providing closure with Julia, showing the lengths Ethan would\n",
        "go to protect those closest to him, and battling an imposing villain. Dead Reckoning:\n",
        "Part One stretches the movie across two films only to seemingly showcase action\n",
        "spectacle after action spectacle while sacrificing character development.\n",
        "Characters I have grown to love over a decade of films felt sidelined, ignored,\n",
        "or wasted. Hayley Atwell's new character chewed up most of the screen time, and\n",
        "while she was fantastic, I wanted to see more of the original team. The new villain\n",
        "had an inconsistent ability that confused more than intimidated. There were some\n",
        "important emotional moments that I just didn't feel the weight of when I definitely\n",
        "should have. Part Two might tie everything together and make me enjoy Part One\n",
        "more in retrospect, but unfortunately, I left wanting more from this one. \"\"\"\n",
        "\n"
      ]
    },
    {
      "cell_type": "code",
      "execution_count": null,
      "metadata": {
        "id": "CB-82EtwBmKb"
      },
      "outputs": [],
      "source": [
        "# TO BE COMPLETED\n",
        "\n",
        "\n",
        "\n",
        "\n",
        "\n"
      ]
    },
    {
      "cell_type": "markdown",
      "metadata": {
        "id": "QD1zgYJpa91f"
      },
      "source": [
        "### Part (iv) [2pt DISCUSSION]\n",
        "\n",
        "Do you think that detecting positive and negative reviews is an easy or difficult task?\n",
        "\n",
        "Since machine learning models are expensive to train and deploy, it is very\n",
        "important to compare our models against baseline models: a simple\n",
        "model that is easy to build and inexpensive to run that we can compare our\n",
        "recurrent neural network model against.\n",
        "\n",
        "Explain how you might build a simple baseline model. This baseline model\n",
        "can be a simple neural network (with very few weights), a hand-written algorithm,\n",
        "or any other strategy that is easy to build and test.\n",
        "\n",
        "**Do not actually build a baseline model. Instead, provide instructions on\n",
        "how to build it.**"
      ]
    },
    {
      "cell_type": "code",
      "execution_count": null,
      "metadata": {
        "id": "7dwiiZYdvz34"
      },
      "outputs": [],
      "source": [
        "'''\n",
        "PROVIDE YOUR ANSWER BELOW\n",
        "\n",
        "\n",
        "\n",
        "\n",
        "\n",
        "\n",
        "'''"
      ]
    },
    {
      "cell_type": "markdown",
      "metadata": {
        "id": "zIR3Q5l0v1HP"
      },
      "source": [
        "# PART B - Transfer Learning\n",
        "\n",
        "For many natural language processing tasks, it is generally not a good idea to train a very large deep neural network model from scratch due to enormous compute requirements and lack of sufficient amounts of training data. Instead, you should always try to take advantage of an existing model that performs similar tasks as the one you need to solve.\n",
        "\n",
        "In this part of the assignment we will be using pretrained models to improve the performance on identifying positive and negative reviews. There are several pretrained models that are available to us, here we will use a pretrained BERT model that comes with the hugging face transformer library.\n",
        "\n",
        "Provided below is sample code to get you started. For more details please visit the hugging face tutorial on using pretrained models using PyTorch: https://huggingface.co/docs/transformers/training\n",
        "\n",
        "#### Sample Code"
      ]
    },
    {
      "cell_type": "code",
      "execution_count": null,
      "metadata": {
        "id": "5R-_BQyiAMoo"
      },
      "outputs": [],
      "source": [
        "# install relevant libraries\n",
        "!pip install -qq transformers"
      ]
    },
    {
      "cell_type": "code",
      "execution_count": null,
      "metadata": {
        "id": "316Xs5WBv0kg"
      },
      "outputs": [],
      "source": [
        "# load relevant libraries\n",
        "import transformers\n",
        "from transformers import BertModel, BertTokenizer, AdamW, get_linear_schedule_with_warmup\n",
        "\n",
        "PRE_TRAINED_MODEL_NAME = 'bert-base-cased'\n",
        "\n",
        "tokenizer = BertTokenizer.from_pretrained(PRE_TRAINED_MODEL_NAME)\n",
        "bert_model = BertModel.from_pretrained(PRE_TRAINED_MODEL_NAME)\n",
        "\n",
        "################### SUBMISSION NOTE ####################################\n",
        "#  - output of this cell creates issues for converting ipynb to HTML\n",
        "#  - you may want to delete this output when you are ready to submit"
      ]
    },
    {
      "cell_type": "code",
      "execution_count": null,
      "metadata": {
        "id": "_20pdf-tYySb"
      },
      "outputs": [],
      "source": [
        "sample_txt = 'I want to learn how to do sentiment analysis using BERT and tokenizer.'\n",
        "\n",
        "encoding = tokenizer.encode_plus(\n",
        "  sample_txt,\n",
        "  max_length=32,\n",
        "  add_special_tokens=True, # Add '[CLS]' and '[SEP]'\n",
        "  return_token_type_ids=False,\n",
        "  pad_to_max_length=True,\n",
        "  return_attention_mask=True,\n",
        "  return_tensors='pt',  # Return PyTorch tensors\n",
        "  truncation = True\n",
        ")"
      ]
    },
    {
      "cell_type": "code",
      "execution_count": null,
      "metadata": {
        "id": "O1B4RiOOcbGY"
      },
      "outputs": [],
      "source": [
        "encoding['input_ids']"
      ]
    },
    {
      "cell_type": "code",
      "execution_count": null,
      "metadata": {
        "id": "7sZ1j9PfceFF"
      },
      "outputs": [],
      "source": [
        "encoding['attention_mask']"
      ]
    },
    {
      "cell_type": "code",
      "execution_count": null,
      "metadata": {
        "id": "dZ458Q_uYzxu"
      },
      "outputs": [],
      "source": [
        "hidden_states = bert_model(input_ids=encoding['input_ids'],\n",
        "                           attention_mask=encoding['attention_mask'])[0]\n",
        "pooled_output = bert_model(input_ids=encoding['input_ids'],\n",
        "                           attention_mask=encoding['attention_mask'])[1]"
      ]
    },
    {
      "cell_type": "code",
      "execution_count": null,
      "metadata": {
        "id": "GqwUAEIzZNBO"
      },
      "outputs": [],
      "source": [
        "hidden_size = bert_model.config.hidden_size\n",
        "\n",
        "print(hidden_size)\n",
        "print(hidden_states.shape)\n",
        "print(pooled_output.shape)\n"
      ]
    },
    {
      "cell_type": "markdown",
      "metadata": {
        "id": "7HCaqLDaZo2l"
      },
      "source": [
        "In the sample code provided we loaded a short text sequence, tokenized it using the same tokenization that was used in the pretrained BERT model, and fed the tokenized input into the BERT model to obtain the embeddings.\n",
        "\n",
        "The model output consists of two forms of embeddings:\n",
        "- **hidden_states** are the final layer of outputs that has a shape sequence_length x embeddings, much like the hidden states of a recurrent neural network\n",
        "- **pooled_output** is the result of applying max pooling on the hidden states to effectively collapse the sequence dimenension and ensure the same output size for any given sequence before feeding into the classification stage\n",
        "\n",
        "Note that you can preprocess all of the data prior to training a classifier stage for sentiment analysis to help speed up the training process. This is no different from the process we applied in an earlier assignment using AlexNet and image data."
      ]
    },
    {
      "cell_type": "markdown",
      "metadata": {
        "id": "4le9bqnuc2JZ"
      },
      "source": [
        "## Part 1. Data Loading [5 pt]\n",
        "\n",
        "We will be using the same \"IMDB Movie Review Dataset\" that we used earlier. Reload the data and complete Part B of the assignment. You should be able to complete part B independently from Part A.\n",
        "\n",
        "### Part (i) [1pt EXPLORATORY]\n",
        "\n",
        "Provided below is a DataLoader for your training and test datasets so you can iterate over batches of data. Run the DataLoader to create your training, validation, and test data."
      ]
    },
    {
      "cell_type": "code",
      "execution_count": null,
      "metadata": {
        "id": "LzlpaXmteHQd"
      },
      "outputs": [],
      "source": [
        "from torch.utils.data import Dataset, DataLoader\n",
        "\n",
        "class MovieReviewDataset(Dataset):\n",
        "\n",
        "  def __init__(self, reviews, targets, tokenizer, max_len):\n",
        "    self.reviews = reviews\n",
        "    self.targets = targets\n",
        "    self.tokenizer = tokenizer\n",
        "    self.max_len = max_len\n",
        "\n",
        "  def __len__(self):\n",
        "    return len(self.reviews)\n",
        "\n",
        "  def __getitem__(self, item):\n",
        "    review = str(self.reviews[item])\n",
        "    #obtain numerical labels\n",
        "    target = 1 if self.targets[item] == 'positive' else 0\n",
        "\n",
        "    encoding = self.tokenizer.encode_plus(\n",
        "      review,\n",
        "      add_special_tokens=True,\n",
        "      max_length=self.max_len,\n",
        "      return_token_type_ids=False,\n",
        "      pad_to_max_length=True,\n",
        "      return_attention_mask=True,\n",
        "      return_tensors='pt',\n",
        "      truncation = True\n",
        "    )\n",
        "\n",
        "    return {\n",
        "      'review_text': review,\n",
        "      'input_ids': encoding['input_ids'].flatten(),\n",
        "      'attention_mask': encoding['attention_mask'].flatten(),\n",
        "      'targets': torch.tensor(target, dtype=torch.long)\n",
        "    }"
      ]
    },
    {
      "cell_type": "code",
      "execution_count": null,
      "metadata": {
        "id": "27_5roCZeI8T"
      },
      "outputs": [],
      "source": [
        "# prepare data loaders\n",
        "MAX_LEN = 400\n",
        "BATCH_SIZE = 16\n",
        "\n",
        "# load dataset\n",
        "df = pd.read_csv(\"IMDB Dataset.csv\")\n",
        "\n",
        "# Convert 'sentiment' to numerical labels if it's not already numeric\n",
        "df['sentiment'] = df['sentiment'].map({'positive': 1, 'negative': 0})\n",
        "\n",
        "# Split the dataset into training, validation, and test sets\n",
        "X = df[['review']]  # DataFrame of features\n",
        "y = df['sentiment']  # Series of targets\n",
        "\n",
        "# Splitting the data into training and temp sets (the latter will be further split into validation and test sets)\n",
        "df_train, df_temp, y_train, y_temp = train_test_split(X, y, test_size=0.4, random_state=42, stratify=y)\n",
        "\n",
        "# Further split the temp set into validation and test sets\n",
        "df_valid, df_test, y_valid, y_test = train_test_split(df_temp, y_temp, test_size=0.5, random_state=42, stratify=y_temp)\n",
        "\n",
        "# Reset index\n",
        "df_train.reset_index(drop=True, inplace=True)\n",
        "df_valid.reset_index(drop=True, inplace=True)\n",
        "df_test.reset_index(drop=True, inplace=True)\n",
        "\n",
        "#training data\n",
        "train_data = MovieReviewDataset(reviews=df_train['review'].to_numpy(),\n",
        "                                targets=df_train['sentiment'].to_numpy(),\n",
        "                                tokenizer=tokenizer,\n",
        "                                max_len=MAX_LEN)\n",
        "\n",
        "train_data_loader = DataLoader(train_data, batch_size = BATCH_SIZE, num_workers = 4) #modify num_works as needed\n",
        "\n",
        "# Validation data\n",
        "valid_data = MovieReviewDataset(reviews=df_valid['review'],\n",
        "                                targets=df_valid['sentiment'],\n",
        "                                tokenizer=tokenizer,\n",
        "                                max_len=MAX_LEN)\n",
        "\n",
        "valid_data_loader = DataLoader(valid_data, batch_size=BATCH_SIZE, num_workers=4)  # Adjust num_workers as per your setup\n",
        "\n",
        "# Test data\n",
        "test_data = MovieReviewDataset(reviews=df_test['review'],\n",
        "                               targets=df_test['sentiment'],\n",
        "                               tokenizer=tokenizer,\n",
        "                               max_len=MAX_LEN)\n",
        "\n",
        "test_data_loader = DataLoader(test_data, batch_size=BATCH_SIZE, num_workers=4)  # Adjust num_workers as per your setup\n"
      ]
    },
    {
      "cell_type": "markdown",
      "metadata": {
        "id": "g0ymyMvzfdVv"
      },
      "source": [
        "### Part (ii) [1pt EXPLORATORY]\n",
        "\n",
        "Use the **train_data_loader** to load one sample. What are the different attributes provided with the sample and how are they used?"
      ]
    },
    {
      "cell_type": "code",
      "execution_count": null,
      "metadata": {
        "id": "UgdwGNtik1ZR"
      },
      "outputs": [],
      "source": [
        "# TO BE COMPLETED\n",
        "\n",
        "\n"
      ]
    },
    {
      "cell_type": "code",
      "execution_count": null,
      "metadata": {
        "id": "OOVKM8kPdPwC"
      },
      "outputs": [],
      "source": [
        "'''\n",
        "PROVIDE YOUR ANSWER BELOW\n",
        "\n",
        "\n",
        "\n",
        "\n",
        "\n",
        "\n",
        "'''"
      ]
    },
    {
      "cell_type": "markdown",
      "metadata": {
        "id": "GXQt2HiGfh4p"
      },
      "source": [
        "### Part (iii) [1pt EXPLORATORY]\n",
        "\n",
        "Determine the range of values for the tokens in the training data. How are the tokens obtained?\n",
        "\n",
        "Hint: You can apply your intuition here, or do some additional research to find how the \"bert-base-cased\" tokenization is done."
      ]
    },
    {
      "cell_type": "code",
      "execution_count": null,
      "metadata": {
        "id": "6cVEH5YhkYUQ"
      },
      "outputs": [],
      "source": [
        "# TO BE COMPLETED\n",
        "\n",
        "\n",
        "\n"
      ]
    },
    {
      "cell_type": "code",
      "execution_count": null,
      "metadata": {
        "id": "Im2KNoOPdYHU"
      },
      "outputs": [],
      "source": [
        "'''\n",
        "PROVIDE YOUR ANSWER BELOW\n",
        "\n",
        "\n",
        "\n",
        "\n",
        "\n",
        "\n",
        "'''"
      ]
    },
    {
      "cell_type": "markdown",
      "metadata": {
        "id": "6CYKglzbfTmw"
      },
      "source": [
        "### Part (iv) [1pt EXPLORATORY]\n",
        "\n",
        "Generate histograms of all the token values in the training data. Repeat for the validation and test data. What are the top 5 occuring tokens in the training_dataset? What do these tokens represent?"
      ]
    },
    {
      "cell_type": "code",
      "execution_count": null,
      "metadata": {
        "id": "HTZdkR7ukhRg"
      },
      "outputs": [],
      "source": [
        "# TO BE COMPLETED\n",
        "\n",
        "\n",
        "\n"
      ]
    },
    {
      "cell_type": "code",
      "execution_count": null,
      "metadata": {
        "id": "fS1c0a6wddHl"
      },
      "outputs": [],
      "source": [
        "'''\n",
        "PROVIDE YOUR ANSWER BELOW\n",
        "\n",
        "\n",
        "\n",
        "\n",
        "\n",
        "\n",
        "'''"
      ]
    },
    {
      "cell_type": "markdown",
      "metadata": {
        "id": "3ElnJDdgcaiy"
      },
      "source": [
        "### Part (v) [1pt EXPLORATORY]\n",
        "\n",
        "Select a single sample from your training DataLoader and feed it through the **bert_model** to obtain the hidden_states and pooled_output. Briefly describe what each tensor dimension represents and what affects the size of each dimension."
      ]
    },
    {
      "cell_type": "code",
      "execution_count": null,
      "metadata": {
        "id": "1HOknY9Ncai9"
      },
      "outputs": [],
      "source": [
        "# TO BE COMPLETED\n",
        "\n",
        "\n",
        "\n"
      ]
    },
    {
      "cell_type": "code",
      "execution_count": null,
      "metadata": {
        "id": "34OnAb9EdjtW"
      },
      "outputs": [],
      "source": [
        "'''\n",
        "PROVIDE YOUR ANSWER BELOW\n",
        "\n",
        "\n",
        "\n",
        "\n",
        "\n",
        "\n",
        "'''"
      ]
    },
    {
      "cell_type": "markdown",
      "metadata": {
        "id": "rDbQ7nRBek5S"
      },
      "source": [
        "## Part 2. Model Architecture [2 pt]\n",
        "\n",
        "### Part (i) [1pt MODEL]\n",
        "\n",
        "Prepare a review classifier model that builds on the pooled output from the Bert model to identify positive and negative reviews."
      ]
    },
    {
      "cell_type": "code",
      "execution_count": null,
      "metadata": {
        "id": "kAISbN5VexqS"
      },
      "outputs": [],
      "source": [
        "class SentimentClassifierPooled(nn.Module):\n",
        "\n",
        "  def __init__(self, n_classes):\n",
        "    super(SentimentClassifierPooled, self).__init__()\n",
        "    self.bert = BertModel.from_pretrained(PRE_TRAINED_MODEL_NAME)\n",
        "\n",
        "    # TO BE COMPLETED\n",
        "\n",
        "  def forward(self, input_ids, attention_mask):\n",
        "    pooled_output = self.bert(input_ids=input_ids, attention_mask=attention_mask)[1]\n",
        "\n",
        "    # TO BE COMPLETED\n",
        "\n"
      ]
    },
    {
      "cell_type": "markdown",
      "metadata": {
        "id": "RLFzooLUgn3c"
      },
      "source": [
        "### Part (ii) [1pt MODEL]\n",
        "\n",
        "Construct the architecture for a review classifier model that uses the last hidden output from the Bert model to identify positive and negative reviews."
      ]
    },
    {
      "cell_type": "code",
      "execution_count": null,
      "metadata": {
        "id": "Q34oWGhoe38H"
      },
      "outputs": [],
      "source": [
        "class SentimentClassifierLast(nn.Module):\n",
        "\n",
        "  def __init__(self, n_classes):\n",
        "    super(SentimentClassifierLast, self).__init__()\n",
        "    self.bert = BertModel.from_pretrained(PRE_TRAINED_MODEL_NAME)\n",
        "\n",
        "    # TO BE COMPLETED\n",
        "\n",
        "  def forward(self, input_ids, attention_mask):\n",
        "\n",
        "    # TO BE COMPLETED\n"
      ]
    },
    {
      "cell_type": "markdown",
      "metadata": {
        "id": "nqkKp1CgiYZb"
      },
      "source": [
        "## Part 3. Training [3 pt]\n",
        "\n",
        "### Part (i) [1pt MODEL]\n",
        "\n",
        "Complete the `get_accuracy` function, which will compute the\n",
        "accuracy (rate) of your model across a dataset (e.g. validation set)."
      ]
    },
    {
      "cell_type": "code",
      "execution_count": null,
      "metadata": {
        "id": "LC89f2i7iYZl"
      },
      "outputs": [],
      "source": [
        "def get_accuracy(model, data):\n",
        "    \"\"\" Compute the accuracy of the `model` across a dataset `data`\n",
        "\n",
        "    Example usage:\n",
        "\n",
        "    >>> model = MyRNN() # to be defined\n",
        "    >>> get_accuracy(model, valid_loader) # the variable `valid_loader` is from above\n",
        "    \"\"\"\n",
        "\n",
        "    # TO BE COMPLETED\n",
        "\n"
      ]
    },
    {
      "cell_type": "markdown",
      "metadata": {
        "id": "ruaRg5JCiYZm"
      },
      "source": [
        "### Part (ii) [1pt MODEL]\n",
        "\n",
        "Write a function **train_model** to train your model. Plot the training curve of your final model.\n",
        "Your training curve should have the training/validation loss and\n",
        "accuracy plotted periodically."
      ]
    },
    {
      "cell_type": "code",
      "execution_count": null,
      "metadata": {
        "id": "wuqypAPxiYZm"
      },
      "outputs": [],
      "source": [
        "# TO BE COMPLETED\n",
        "\n",
        "\n"
      ]
    },
    {
      "cell_type": "markdown",
      "metadata": {
        "id": "XVvzpQRWiYZm"
      },
      "source": [
        "### Part (iii) [1pt MODEL]\n",
        "\n",
        "Choose at least 4 hyperparameters to tune. Explain how you tuned the hyperparameters. You don't need to include your training curve for every model you trained.\n",
        "Instead, explain what hyperparemters you tuned, what the best validation accuracy was,\n",
        "and the reasoning behind the hyperparameter decisions you made.\n",
        "\n",
        "For this assignment, you should tune more than just your learning rate and epoch.\n",
        "Choose at least 2 hyperparameters that are unrelated to the optimizer."
      ]
    },
    {
      "cell_type": "code",
      "execution_count": null,
      "metadata": {
        "id": "WeCZtA9iiYZm"
      },
      "outputs": [],
      "source": [
        "# TO BE COMPLETED\n",
        "\n",
        "\n",
        "\n"
      ]
    },
    {
      "cell_type": "code",
      "execution_count": null,
      "metadata": {
        "id": "N9o-7udJmahe"
      },
      "outputs": [],
      "source": [
        "'''\n",
        "PROVIDE YOUR ANSWER BELOW\n",
        "\n",
        "\n",
        "\n",
        "\n",
        "\n",
        "\n",
        "'''"
      ]
    },
    {
      "cell_type": "markdown",
      "metadata": {
        "id": "ecKaJIpQe9UV"
      },
      "source": [
        "## Part 4. Evaluation [10 pt]\n",
        "\n",
        "### Part (i) [3pt RESULT]\n",
        "\n",
        "Report the final test accuracy of your best BERT-based model. Then summarize in a pandas dataframe the accuracy obtained on the training, validation, and test data of your best models from Part A and B.\n",
        "\n",
        "How does the BERT model compare to the approach in part A using only LSTM? Are the results what you expected? Explain.\n",
        "\n"
      ]
    },
    {
      "cell_type": "code",
      "execution_count": null,
      "metadata": {
        "id": "AoweZb8i2cRb"
      },
      "outputs": [],
      "source": [
        "# TO BE COMPLETED\n",
        "\n",
        "\n",
        "\n"
      ]
    },
    {
      "cell_type": "code",
      "execution_count": null,
      "metadata": {
        "id": "1RIZ3JWzm2a_"
      },
      "outputs": [],
      "source": [
        "'''\n",
        "PROVIDE YOUR ANSWER BELOW\n",
        "\n",
        "\n",
        "\n",
        "\n",
        "\n",
        "\n",
        "'''"
      ]
    },
    {
      "cell_type": "markdown",
      "metadata": {
        "id": "ybdyEKx5Ww4F"
      },
      "source": [
        "### Part (ii) [2pt RESULT]\n",
        "\n",
        "Report the false positive rate and false negative rate of your model across the test set. Then summarize in a pandas dataframe the false postive and false negative rate of your model obtained on the training, validation, and test data of your best models from Part A and B.\n",
        "\n",
        "How does the BERT model compare to the approach in part A using only LSTM? Are the results what you expected? Explain."
      ]
    },
    {
      "cell_type": "code",
      "execution_count": null,
      "metadata": {
        "id": "vuxLCHhFWw4F"
      },
      "outputs": [],
      "source": [
        "# TO BE COMPLETED\n",
        "\n",
        "\n"
      ]
    },
    {
      "cell_type": "code",
      "execution_count": null,
      "metadata": {
        "id": "vIu8lB9jm3X_"
      },
      "outputs": [],
      "source": [
        "'''\n",
        "PROVIDE YOUR ANSWER BELOW\n",
        "\n",
        "\n",
        "\n",
        "\n",
        "\n",
        "\n",
        "'''"
      ]
    },
    {
      "cell_type": "markdown",
      "metadata": {
        "id": "646WjsAwWw4F"
      },
      "source": [
        "### Part (iii) [3pt DISCUSSION]\n",
        "Examine some of the misclassified reviews from you best BERT and LSTM models to better identify the differences in the models. Try to provide some justification for any differences in the misclassifications observed in the models.\n",
        "\n",
        "Is there any part of the review that you could modify to make the classifications correct? Try to make small changes to the review to see if you can make the model make the correct classification while keeping the review as close to the original as possible."
      ]
    },
    {
      "cell_type": "code",
      "execution_count": null,
      "metadata": {
        "id": "0OvvnW8OWw4G"
      },
      "outputs": [],
      "source": [
        "# TO BE COMPLETED\n",
        "\n",
        "\n",
        "\n"
      ]
    },
    {
      "cell_type": "code",
      "execution_count": null,
      "metadata": {
        "id": "7TWkK5Sgm4YM"
      },
      "outputs": [],
      "source": [
        "'''\n",
        "PROVIDE YOUR ANSWER BELOW\n",
        "\n",
        "\n",
        "\n",
        "\n",
        "\n",
        "\n",
        "'''"
      ]
    },
    {
      "cell_type": "markdown",
      "metadata": {
        "id": "H4FlSj_Mn2yY"
      },
      "source": [
        "### Part (iv) [2pt DISCUSSION]\n",
        "Find 5 samples of positive and negative reviews on IMDB that were posted recently and evaluate them with your best BERT and LSTM models from parts A and B. How well do they perform?"
      ]
    },
    {
      "cell_type": "code",
      "execution_count": null,
      "metadata": {
        "id": "y3DCyMW_n05f"
      },
      "outputs": [],
      "source": [
        "# TO BE COMPLETED\n",
        "\n",
        "\n",
        "\n"
      ]
    },
    {
      "cell_type": "code",
      "execution_count": null,
      "metadata": {
        "id": "0kLt9a5Xm5cO"
      },
      "outputs": [],
      "source": [
        "'''\n",
        "PROVIDE YOUR ANSWER BELOW\n",
        "\n",
        "\n",
        "\n",
        "\n",
        "\n",
        "\n",
        "'''"
      ]
    },
    {
      "cell_type": "markdown",
      "metadata": {
        "id": "ARDyU7N2mWFh"
      },
      "source": [
        "# PART C (Optional) - Bonus Challenge!\n",
        "\n",
        "This is an optional exercise for those that finish the assignment early and would like to take on a challenging task.\n",
        "\n",
        "In part A we constructed and trained an LSTM model to identify the sentiment in movie reviews. In Part B we used the embeddings of a BERT model pretrained on a large corpus of text to demonstrate how transfer learning can be used to improve our movie sentiment model. The BERT model is one of many language models that we could have used to implement transfer learning.\n",
        "\n",
        "For this bonus challenge you are asked to implement a generative character-level LSTM model to produce IMDB movie reviews. Once the model is sufficiently trained you can then use its hidden states as the embedding for training a movie sentiment model. Construct your new movie sentiment analysis model and compare the performance against the model from part A and B.\n",
        "\n",
        "There are many variants of a generative LSTM model that you can consider. As a starting point you can use the generative LSTM sample code provided in the lecture notes. Specifically, the one used to generate Shakeaspeare. More advanced versions of a generative LSTM can be found in the Universal Language Model Fine-turing for Text Classification (ULMfit) paper (https://arxiv.org/abs/1801.06146).\n",
        "\n",
        "Tasks:\n",
        "\n",
        "1. Create a generative character-level LSTM model trained to create IMDB reviews\n",
        "2. Create a classifier using the embeddings from the generative LSTM model (from step 1) to identify positive and negative reviews.\n",
        "3. Compare the performance of the model with the results in parts A and B of the assignment.\n",
        "4. Upgrade the generative LSTM model using the techniques listed in the ULMfit paper (e.g., bi-directional LSTM, pretraining with wikipedia text and fine-tuning on IMDBT reviews, etc.).\n",
        "\n",
        "Bonus marks will be provided based on the number of steps completed. Summarize below your results and anything intersting you learned from the steps that you completed. Bonus marks cannot be accumulated beyond a maximum assignment grade.\n"
      ]
    },
    {
      "cell_type": "code",
      "execution_count": null,
      "metadata": {
        "id": "9eUKPfCumdpW"
      },
      "outputs": [],
      "source": [
        "# TO BE COMPLETED\n",
        "\n",
        "\n"
      ]
    },
    {
      "cell_type": "code",
      "execution_count": null,
      "metadata": {
        "id": "ryS5uR0NB8pE"
      },
      "outputs": [],
      "source": [
        "'''\n",
        "PROVIDE YOUR ANSWER BELOW\n",
        "\n",
        "\n",
        "\n",
        "\n",
        "\n",
        "\n",
        "'''"
      ]
    },
    {
      "cell_type": "markdown",
      "metadata": {
        "id": "FYwI4RmFS2RB"
      },
      "source": [
        "### Saving to HTML\n",
        "Detailed instructions for saving to HTML can be found <a href=\"https://stackoverflow.com/questions/53460051/convert-ipynb-notebook-to-html-in-google-colab/64487858#64487858\">here</a>. Provided below are a summary of the instructions:\n",
        "\n",
        "(1) download your ipynb file by clicking on File->Download.ipynb\n",
        "\n",
        "(2) reupload your file to the temporary Google Colab storage (you can access the temporary storage from the tab to the left)\n",
        "\n",
        "(3) run the following:"
      ]
    },
    {
      "cell_type": "code",
      "execution_count": null,
      "metadata": {
        "id": "2TrsqdNgS5ex"
      },
      "outputs": [],
      "source": [
        "#!pip install nbconvert\n",
        "\n",
        "%%shell\n",
        "jupyter nbconvert --to html /content/A4.ipynb\n"
      ]
    },
    {
      "cell_type": "markdown",
      "metadata": {
        "id": "nuXhlFlPTY7F"
      },
      "source": [
        "(4) the html file will be available for download in the temporary Google Colab storage\n",
        "\n",
        "(5) review the html file and make sure all the results are visible before submitting your assignment to Quercus"
      ]
    },
    {
      "cell_type": "markdown",
      "metadata": {
        "id": "Oo8xLbm4mggI"
      },
      "source": [
        "# Assignment Grading Rubric\n",
        "The grading of the assignment will be based on the following categories:\n",
        "\n",
        "(1) **10 Pt - EXPLORATORY QUESTIONS** These are basic questions that in most cases can be answered without requiring a fully working and trained neural network model. For example, data loading, processing and visualization, summary statistics, data exploration, model and training setup, etc.\n",
        "\n",
        "(2) **10 Pt - MODEL** Student has successfully implemented all the required neural network models and has demonstrated successful training of the model without any errors.\n",
        "\n",
        "(3) **10 Pt - RESULT** Students are evaluated based on the results achieved in comparison to the expected results of the assignment.\n",
        "\n",
        "(4) **10 Pt - DISCUSSION QUESTIONS** Student demonstrated understanding beyond the basic exploratory questions, can answer some of the more challenging questions, and provide arguments for their model selection decisions.\n",
        "\n",
        "(5) **10 Pt - COMMUNICATION** Student has provided a quality submission that is easy to read without too many unnecessary output statements that distract the reading of the document. The code has been well commented and all the answers are communicated clearly and concisely.\n",
        "\n",
        "(6) **10 Pt - BONUS** Student has completed the assignment and has taken on the challenging bonus tasks listed in PART C. The student has demonstrated a good understanding of all aspects of the assignment and has exceeded expectations for the assignment.\n",
        "\n",
        "\n",
        "\n",
        "**TOTAL GRADE = _____ of 50 Pts**"
      ]
    }
  ],
  "metadata": {
    "accelerator": "GPU",
    "colab": {
      "gpuType": "T4",
      "provenance": [],
      "toc_visible": true
    },
    "kernelspec": {
      "display_name": "Python 3",
      "name": "python3"
    },
    "language_info": {
      "codemirror_mode": {
        "name": "ipython",
        "version": 3
      },
      "file_extension": ".py",
      "mimetype": "text/x-python",
      "name": "python",
      "nbconvert_exporter": "python",
      "pygments_lexer": "ipython3",
      "version": "3.9.18"
    }
  },
  "nbformat": 4,
  "nbformat_minor": 0
}
